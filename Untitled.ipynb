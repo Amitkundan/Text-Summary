{
 "cells": [
  {
   "cell_type": "code",
   "execution_count": 10,
   "id": "548b631f-09c3-4383-8b25-d9e09a0c3cf3",
   "metadata": {},
   "outputs": [],
   "source": [
    "import spacy\n"
   ]
  },
  {
   "cell_type": "code",
   "execution_count": 14,
   "id": "5e0498ad-df97-40e7-bcd0-42fb24ad5a1a",
   "metadata": {},
   "outputs": [],
   "source": [
    "import pytextrank"
   ]
  },
  {
   "cell_type": "code",
   "execution_count": 19,
   "id": "58bfa7ec-ad50-4540-94e3-0aca88bff5b8",
   "metadata": {},
   "outputs": [
    {
     "data": {
      "text/plain": [
       "<pytextrank.base.BaseTextRankFactory at 0x24b028bdc10>"
      ]
     },
     "execution_count": 19,
     "metadata": {},
     "output_type": "execute_result"
    }
   ],
   "source": [
    "nlp = spacy.load(\"en_core_web_lg\")\n",
    "nlp.add_pipe(\"textrank\")\n",
    " \n"
   ]
  },
  {
   "cell_type": "code",
   "execution_count": 29,
   "id": "15713f8c-eff7-4b93-88f5-b31e6b8fe557",
   "metadata": {},
   "outputs": [
    {
     "name": "stdout",
     "output_type": "stream",
     "text": [
      "\u001b[38;5;2m✔ Download and installation successful\u001b[0m\n",
      "You can now load the package via spacy.load('en_core_web_sm')\n",
      "\u001b[38;5;3m⚠ Restart to reload dependencies\u001b[0m\n",
      "If you are in a Jupyter or Colab notebook, you may need to restart Python in\n",
      "order to load all the package's dependencies. You can do this by selecting the\n",
      "'Restart kernel' or 'Restart runtime' option.\n"
     ]
    }
   ],
   "source": [
    "from spacy.cli import download\n",
    "\n",
    "download(\"en_core_web_sm\")"
   ]
  },
  {
   "cell_type": "code",
   "execution_count": 30,
   "id": "5d163842-6d1e-48d7-b9c2-c91d4ce55388",
   "metadata": {},
   "outputs": [
    {
     "name": "stdout",
     "output_type": "stream",
     "text": [
      "Original Document Size: 1820\n",
      "Deep-learning architectures such as deep neural networks, deep belief networks, deep reinforcement learning, \n",
      "recurrent neural networks and convolutional neural networks have been applied to\n",
      "fields including computer vision, speech recognition, natural language processing, \n",
      "machine translation, bioinformatics, drug design, medical image analysis, material\n",
      "inspection and board game programs, where they have produced results comparable to \n",
      "and in some cases surpassing human expert performance.\n",
      "Summary Length: 81\n",
      "The adjective \"deep\" in deep learning refers to the use of multiple\n",
      "layers in the network.\n",
      "Summary Length: 20\n"
     ]
    }
   ],
   "source": [
    "import spacy\n",
    "import pytextrank\n",
    " \n",
    "nlp = spacy.load(\"en_core_web_lg\")\n",
    "nlp.add_pipe(\"textrank\")\n",
    " \n",
    "example_text = \"\"\"Deep learning (also known as deep structured learning) is part of a \n",
    "broader family of machine learning methods based on artificial neural networks with \n",
    "representation learning. Learning can be supervised, semi-supervised or unsupervised. \n",
    "Deep-learning architectures such as deep neural networks, deep belief networks, deep reinforcement learning, \n",
    "recurrent neural networks and convolutional neural networks have been applied to\n",
    "fields including computer vision, speech recognition, natural language processing, \n",
    "machine translation, bioinformatics, drug design, medical image analysis, material\n",
    "inspection and board game programs, where they have produced results comparable to \n",
    "and in some cases surpassing human expert performance. Artificial neural networks\n",
    "(ANNs) were inspired by information processing and distributed communication nodes\n",
    "in biological systems. ANNs have various differences from biological brains. Specifically, \n",
    "neural networks tend to be static and symbolic, while the biological brain of most living organisms\n",
    "is dynamic (plastic) and analogue. The adjective \"deep\" in deep learning refers to the use of multiple\n",
    "layers in the network. Early work showed that a linear perceptron cannot be a universal classifier, \n",
    "but that a network with a nonpolynomial activation function with one hidden layer of unbounded width can.\n",
    "Deep learning is a modern variation which is concerned with an unbounded number of layers of bounded size, \n",
    "which permits practical application and optimized implementation, while retaining theoretical universality \n",
    "under mild conditions. In deep learning the layers are also permitted to be heterogeneous and to deviate widely \n",
    "from biologically informed connectionist models, for the sake of efficiency, trainability and understandability, \n",
    "whence the structured part.\"\"\"\n",
    "print('Original Document Size:',len(example_text))\n",
    "doc = nlp(example_text)\n",
    " \n",
    "for sent in doc._.textrank.summary(limit_phrases=2, limit_sentences=2):\n",
    "    print(sent)\n",
    "    print('Summary Length:',len(sent))"
   ]
  },
  {
   "cell_type": "code",
   "execution_count": null,
   "id": "3942e5a0-06e8-4c9c-bba8-bd5ed651117e",
   "metadata": {},
   "outputs": [],
   "source": []
  },
  {
   "cell_type": "code",
   "execution_count": null,
   "id": "6823e273-2daf-4ef0-8049-c3453c3a0f57",
   "metadata": {},
   "outputs": [],
   "source": []
  },
  {
   "cell_type": "code",
   "execution_count": null,
   "id": "e73a8ede-dfe6-428c-bf1c-081d8a2eaf60",
   "metadata": {},
   "outputs": [],
   "source": []
  },
  {
   "cell_type": "code",
   "execution_count": 31,
   "id": "b31df08b-9a4e-4504-8c71-7225f4b619af",
   "metadata": {},
   "outputs": [
    {
     "name": "stdout",
     "output_type": "stream",
     "text": [
      "Original Document Size: 2485\n",
      "The Monkey and the Crocodile\n",
      "\n",
      "Once upon a time, in a lush forest, there lived a clever monkey named Raktamukha.\n",
      "Summary Length: 24\n",
      "Raktamukha enjoyed his days swinging from branch to branch and feasting on the sweet mangoes that grew abundantly on the tree.\n",
      "\n",
      "\n",
      "Summary Length: 23\n"
     ]
    }
   ],
   "source": [
    "nlp = spacy.load(\"en_core_web_lg\")\n",
    "nlp.add_pipe(\"textrank\")\n",
    " \n",
    "example_text = \"\"\"The Monkey and the Crocodile\n",
    "\n",
    "Once upon a time, in a lush forest, there lived a clever monkey named Raktamukha. He dwelled in a towering mango tree beside a serene river. Raktamukha enjoyed his days swinging from branch to branch and feasting on the sweet mangoes that grew abundantly on the tree.\n",
    "\n",
    "One day, a crocodile named Karalamukha spotted Raktamukha enjoying the ripe mangoes from the riverbank. Karalamukha was drawn to the monkey's delightful feasts and longed to taste the sweet fruit himself. He approached Raktamukha and struck up a conversation.\n",
    "\n",
    "\"Dear Raktamukha,\" said Karalamukha, \"I have heard of your exquisite mangoes. Would you be so kind as to share some with me? My wife is pregnant, and she has a strong craving for mangoes.\"\n",
    "\n",
    "Raktamukha, being wise, sensed the crocodile's ulterior motive but decided to play along. \"Certainly, dear friend,\" replied Raktamukha with a smile. \"Hop onto my back, and I will carry you across the river to the mango grove on the other side, where the mangoes are even sweeter.\"\n",
    "\n",
    "Delighted by the monkey's offer, Karalamukha climbed onto Raktamukha's back, and they began their journey across the river. As they reached the middle of the river, Karalamukha confessed his true intention to Raktamukha.\n",
    "\n",
    "\"Dear monkey,\" said Karalamukha, \"I must apologize for deceiving you. I plan to feed you to my wife, for she desires to taste monkey's heart, believing it will ensure a healthy baby.\"\n",
    "\n",
    "Upon hearing this treacherous plan, Raktamukha remained calm and composed. \"Oh, dear friend,\" replied Raktamukha, \"I understand your predicament. However, I have left my heart hanging on the mango tree. If you desire to feed it to your wife, we must return to the tree at once.\"\n",
    "\n",
    "Believing the monkey's words, Karalamukha turned back towards the mango tree. As they reached the riverbank, Raktamukha swiftly leaped onto the tree's branches, out of the crocodile's reach.\n",
    "\n",
    "Realizing he had been outwitted by the clever monkey, Karalamukha felt ashamed and begged for forgiveness. But Raktamukha, being compassionate, forgave the crocodile and continued to enjoy his days in the mango tree, always keeping an eye out for any future trickery.\n",
    "\n",
    "And so, the monkey's wit prevailed over the crocodile's deceit, teaching us the value of intelligence and foresight in overcoming challenges.\n",
    "\n",
    "This story from the Panchatantra illustrates timeless lessons of wit, wisdom, and kindness, passed down through generations in the form of captivating fables.\n",
    "\n",
    "\n",
    "\n",
    "\"\"\"\n",
    "print('Original Document Size:',len(example_text))\n",
    "doc = nlp(example_text)\n",
    " \n",
    "for sent in doc._.textrank.summary(limit_phrases=2, limit_sentences=2):\n",
    "    print(sent)\n",
    "    print('Summary Length:',len(sent))"
   ]
  },
  {
   "cell_type": "code",
   "execution_count": null,
   "id": "d745eb02-bd0e-435e-9ddc-e82e81c32005",
   "metadata": {},
   "outputs": [],
   "source": []
  }
 ],
 "metadata": {
  "kernelspec": {
   "display_name": "Python 3 (ipykernel)",
   "language": "python",
   "name": "python3"
  },
  "language_info": {
   "codemirror_mode": {
    "name": "ipython",
    "version": 3
   },
   "file_extension": ".py",
   "mimetype": "text/x-python",
   "name": "python",
   "nbconvert_exporter": "python",
   "pygments_lexer": "ipython3",
   "version": "3.11.7"
  }
 },
 "nbformat": 4,
 "nbformat_minor": 5
}
